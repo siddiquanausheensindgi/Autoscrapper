{
 "cells": [
  {
   "cell_type": "code",
   "execution_count": 2,
   "metadata": {},
   "outputs": [
    {
     "name": "stdout",
     "output_type": "stream",
     "text": [
      "Requirement already satisfied: AutoScraper in c:\\users\\naush\\anaconda3\\lib\\site-packages (1.1.14)\n",
      "Requirement already satisfied: requests in c:\\users\\naush\\anaconda3\\lib\\site-packages (from AutoScraper) (2.24.0)\n",
      "Requirement already satisfied: lxml in c:\\users\\naush\\anaconda3\\lib\\site-packages (from AutoScraper) (4.6.1)\n",
      "Requirement already satisfied: bs4 in c:\\users\\naush\\anaconda3\\lib\\site-packages (from AutoScraper) (0.0.1)\n",
      "Requirement already satisfied: idna<3,>=2.5 in c:\\users\\naush\\anaconda3\\lib\\site-packages (from requests->AutoScraper) (2.10)\n",
      "Requirement already satisfied: chardet<4,>=3.0.2 in c:\\users\\naush\\anaconda3\\lib\\site-packages (from requests->AutoScraper) (3.0.4)\n",
      "Requirement already satisfied: urllib3!=1.25.0,!=1.25.1,<1.26,>=1.21.1 in c:\\users\\naush\\anaconda3\\lib\\site-packages (from requests->AutoScraper) (1.25.11)\n",
      "Requirement already satisfied: certifi>=2017.4.17 in c:\\users\\naush\\anaconda3\\lib\\site-packages (from requests->AutoScraper) (2020.6.20)\n",
      "Requirement already satisfied: beautifulsoup4 in c:\\users\\naush\\anaconda3\\lib\\site-packages (from bs4->AutoScraper) (4.9.3)\n",
      "Requirement already satisfied: soupsieve>1.2; python_version >= \"3.0\" in c:\\users\\naush\\anaconda3\\lib\\site-packages (from beautifulsoup4->bs4->AutoScraper) (2.0.1)\n"
     ]
    }
   ],
   "source": [
    "!pip install AutoScraper"
   ]
  },
  {
   "cell_type": "markdown",
   "metadata": {},
   "source": [
    "# AutoScraper: A Smart, Automatic, Fast and Lightweight Web Scraper for Python"
   ]
  },
  {
   "cell_type": "markdown",
   "metadata": {},
   "source": [
    "Autoscrapper is an automatic web scraping to make scraping easy. It gets a url or the html content of a web page and a list of sample data which we want to scrape from that page. This data can be text, url or any html tag value of that page. It learns the scraping rules and returns the similar elements."
   ]
  },
  {
   "cell_type": "code",
   "execution_count": 25,
   "metadata": {},
   "outputs": [],
   "source": [
    "from autoscraper import AutoScraper"
   ]
  },
  {
   "cell_type": "code",
   "execution_count": 26,
   "metadata": {},
   "outputs": [],
   "source": [
    "amazon_url = \"https://www.amazon.in/s?k=headphones\"\n",
    "\n",
    "wanted_list = [\"₹299\",\"boAt Bassheads 100 in Ear Wired Earphones with Mic(Furious Red)\",\"346,224\"]\n",
    "\n",
    "#Scrapping is done to retrive mobile phones price, Title."
   ]
  },
  {
   "cell_type": "code",
   "execution_count": 27,
   "metadata": {},
   "outputs": [
    {
     "name": "stdout",
     "output_type": "stream",
     "text": [
      "['₹798', '₹3,990', '₹799', '₹1,999', '₹349', '₹999', '₹498', '₹1,399', '₹1,499', '₹4,999', '₹299', '₹399', '₹2,499', '₹599', '₹2,490', '₹2,299', '₹4,990', '₹149', '₹899', '₹99', 'Best sellerin On-Ear Headphones', 'boAt Rockerz 450 Bluetooth On Ear Headphones with Mic, Upto 15 Hours Playback, 40MM Drivers, Padded Ear Cushions, Integrated Controls and Dual Modes(Luscious Black)', 'boAt Rockerz 450 Bluetooth On Ear Headphones with Mic, Upto 15 Hours Playback, 40MM Drivers, Padded Ear Cushions, Integrated Controls and Dual Modes(Aqua Blue)', 'boAt Bassheads 100 in Ear Wired Earphones with Mic(Furious Red)', 'ZEBRONICS Zeb-Thunder Wireless BT Headphone Comes with 40mm Drivers, AUX Connectivity, Built in FM, Call Function, 9Hrs* Playback time and Supports Micro SD Card(Sea Green)', 'boAt Rockerz 550 Over Ear Bluetooth Headphones with Upto 20 Hours Playback, 50MM Drivers, Soft Padded Ear Cushions and Physical Noise Isolation(Black)', 'Philips Audio SHE1505 Wired in Ear Earphones with Mic (Black)', 'Amazon\\'s Choicefor \"headphones\"', 'boAt Rockerz 370 On Ear Bluetooth Headphones with Upto 12 Hours Playtime, Cozy Padded Earcups and Bluetooth v5.0(Buoyant Black)', 'boAt Bassheads 900 Wired On Ear Headphones with Mic (Carbon Black)', 'boAt Bassheads 100 Wired in Ear Earphones with Mic (Mint Green)', 'Sony Wh-Ch510 Bluetooth Wireless On Ear Headphones Up-To 35Hrs Playtime Lightweight, Type-C, Play/Pause Control, 30Mm Driver, Bt Version 5.0 & Voice Assistant Support For Mobiles - Blue', 'ZEBRONICS Zeb-Thunder Bluetooth Wireless Over Ear Headphone FM, mSD, 9 hrs Playback with Mic (Black)', 'pTron Pride Lite HBE (High Bass Earphones) in-Ear Wired Headphones with in-line Mic, 10mm Powerful Driver for Stereo Audio, Noise Cancelling Headset with 1.2m Tangle-Free Cable & 3.5mm Aux (Grey)', 'ZEBRONICS Zeb-Thunder Bluetooth Wireless On Ear Headphone FM, mSD, 9 hrs Playback with Mic (Teal Green)', 'Kratos Thump Wired Earphones, Powerful Bass, HD Sound Quality Earphones, Tangle Free Cable, Comfortable in Ear Fit, with 3.5 mm Jack', 'boAt Rockerz 450 Bluetooth On Ear Headphones with Mic, Upto 15 Hours Playback, 40MM Drivers, Padded Ear Cushions, Integrated Controls and Dual Modes(Hazel Beige)', 'ZEBRONICS Zeb-Thunder Wireless Bluetooth Over The Ear Headphone, FM, mSD, 9 hrs Playback with Mic (Blue)', 'boAt Rockerz 450 Bluetooth On Ear Headphones with Mic, Upto 15 Hours Playback, 40MM Drivers, Padded Ear Cushions, Integrat...', 'ZEBRONICS Zeb-Thunder Wireless BT Headphone Comes with 40mm Drivers, AUX Connectivity, Built in FM, Call Function, 9Hrs* P...', 'boAt Rockerz 550 Over Ear Bluetooth Headphones with Upto 20 Hours Playback, 50MM Drivers, Soft Padded Ear Cushions and Phy...', 'boAt Rockerz 370 On Ear Bluetooth Headphones with Upto 12 Hours Playtime, Cozy Padded Earcups and Bluetooth v5.0(Buoyant B...', 'Sony Wh-Ch510 Bluetooth Wireless On Ear Headphones Up-To 35Hrs Playtime Lightweight, Type-C, Play/Pause Control, 30Mm Driv...', 'pTron Pride Lite HBE (High Bass Earphones) in-Ear Wired Headphones with in-line Mic, 10mm Powerful Driver for Stereo Audi...', 'Kratos Thump Wired Earphones, Powerful Bass, HD Sound Quality Earphones, Tangle Free Cable, Comfortable in Ear Fit, with ...']\n"
     ]
    }
   ],
   "source": [
    "scraper = AutoScraper()\n",
    "\n",
    "result = scraper.build(amazon_url, wanted_list)\n",
    "\n",
    "print(result)"
   ]
  },
  {
   "cell_type": "code",
   "execution_count": 32,
   "metadata": {},
   "outputs": [
    {
     "data": {
      "text/plain": [
       "{'rule_hzl3': ['₹798',\n",
       "  '₹3,990',\n",
       "  '₹799',\n",
       "  '₹1,999',\n",
       "  '₹349',\n",
       "  '₹999',\n",
       "  '₹498',\n",
       "  '₹1,399',\n",
       "  '₹1,499',\n",
       "  '₹4,999',\n",
       "  '₹299',\n",
       "  '₹399',\n",
       "  '₹799',\n",
       "  '₹2,499',\n",
       "  '₹599',\n",
       "  '₹2,490',\n",
       "  '₹349',\n",
       "  '₹999',\n",
       "  '₹2,299',\n",
       "  '₹4,990',\n",
       "  '₹498',\n",
       "  '₹1,399',\n",
       "  '₹149',\n",
       "  '₹899',\n",
       "  '₹498',\n",
       "  '₹1,399',\n",
       "  '₹10,990',\n",
       "  '₹19,990',\n",
       "  '₹99',\n",
       "  '₹599',\n",
       "  '₹799',\n",
       "  '₹3,990'],\n",
       " 'rule_qnk3': ['₹798',\n",
       "  '₹3,990',\n",
       "  '₹799',\n",
       "  '₹1,999',\n",
       "  '₹349',\n",
       "  '₹999',\n",
       "  '₹498',\n",
       "  '₹1,399',\n",
       "  '₹1,499',\n",
       "  '₹4,999',\n",
       "  '₹299',\n",
       "  '₹399',\n",
       "  '₹799',\n",
       "  '₹2,499',\n",
       "  '₹599',\n",
       "  '₹2,490',\n",
       "  '₹349',\n",
       "  '₹999',\n",
       "  '₹2,299',\n",
       "  '₹4,990',\n",
       "  '₹498',\n",
       "  '₹1,399',\n",
       "  '₹149',\n",
       "  '₹899',\n",
       "  '₹498',\n",
       "  '₹1,399',\n",
       "  '₹10,990',\n",
       "  '₹19,990',\n",
       "  '₹99',\n",
       "  '₹599',\n",
       "  '₹799',\n",
       "  '₹3,990'],\n",
       " 'rule_ct1c': ['Best sellerin On-Ear Headphones',\n",
       "  'boAt Rockerz 450 Bluetooth On Ear Headphones with Mic, Upto 15 Hours Playback, 40MM Drivers, Padded Ear Cushions, Integrated Controls and Dual Modes(Luscious Black)',\n",
       "  'boAt Rockerz 450 Bluetooth On Ear Headphones with Mic, Upto 15 Hours Playback, 40MM Drivers, Padded Ear Cushions, Integrated Controls and Dual Modes(Aqua Blue)',\n",
       "  'boAt Bassheads 100 in Ear Wired Earphones with Mic(Furious Red)',\n",
       "  'ZEBRONICS Zeb-Thunder Wireless BT Headphone Comes with 40mm Drivers, AUX Connectivity, Built in FM, Call Function, 9Hrs* Playback time and Supports Micro SD Card(Sea Green)',\n",
       "  'boAt Rockerz 550 Over Ear Bluetooth Headphones with Upto 20 Hours Playback, 50MM Drivers, Soft Padded Ear Cushions and Physical Noise Isolation(Black)',\n",
       "  'Philips Audio SHE1505 Wired in Ear Earphones with Mic (Black)',\n",
       "  'Amazon\\'s Choicefor \"headphones\"',\n",
       "  'boAt Rockerz 370 On Ear Bluetooth Headphones with Upto 12 Hours Playtime, Cozy Padded Earcups and Bluetooth v5.0(Buoyant Black)',\n",
       "  'boAt Bassheads 900 Wired On Ear Headphones with Mic (Carbon Black)',\n",
       "  'boAt Bassheads 100 Wired in Ear Earphones with Mic (Mint Green)',\n",
       "  'Sony Wh-Ch510 Bluetooth Wireless On Ear Headphones Up-To 35Hrs Playtime Lightweight, Type-C, Play/Pause Control, 30Mm Driver, Bt Version 5.0 & Voice Assistant Support For Mobiles - Blue',\n",
       "  'ZEBRONICS Zeb-Thunder Bluetooth Wireless Over Ear Headphone FM, mSD, 9 hrs Playback with Mic (Black)',\n",
       "  'pTron Pride Lite HBE (High Bass Earphones) in-Ear Wired Headphones with in-line Mic, 10mm Powerful Driver for Stereo Audio, Noise Cancelling Headset with 1.2m Tangle-Free Cable & 3.5mm Aux (Grey)',\n",
       "  'ZEBRONICS Zeb-Thunder Bluetooth Wireless On Ear Headphone FM, mSD, 9 hrs Playback with Mic (Teal Green)',\n",
       "  'Sony WH-XB910N Extra Bass Noise Cancelling Bluetooth Wireless Over Ear Headphones with Swift Pair, Fast Pair, Touch Sensor | Instant Bank Discount of INR 2000 on Select Prepaid transactions',\n",
       "  'Kratos Thump Wired Earphones, Powerful Bass, HD Sound Quality Earphones, Tangle Free Cable, Comfortable in Ear Fit, with 3.5 mm Jack',\n",
       "  'boAt Rockerz 450 Bluetooth On Ear Headphones with Mic, Upto 15 Hours Playback, 40MM Drivers, Padded Ear Cushions, Integrated Controls and Dual Modes(Hazel Beige)'],\n",
       " 'rule_tts3': ['boAt Rockerz 450 Bluetooth On Ear Headphones with Mic, Upto 15 Hours Playback, 40MM Drivers, Padded Ear Cushions, Integrat...',\n",
       "  'boAt Rockerz 450 Bluetooth On Ear Headphones with Mic, Upto 15 Hours Playback, 40MM Drivers, Padded Ear Cushions, Integrat...',\n",
       "  'boAt Bassheads 100 in Ear Wired Earphones with Mic(Furious Red)',\n",
       "  'ZEBRONICS Zeb-Thunder Wireless BT Headphone Comes with 40mm Drivers, AUX Connectivity, Built in FM, Call Function, 9Hrs* P...',\n",
       "  'boAt Rockerz 550 Over Ear Bluetooth Headphones with Upto 20 Hours Playback, 50MM Drivers, Soft Padded Ear Cushions and Phy...',\n",
       "  'Philips Audio SHE1505 Wired in Ear Earphones with Mic (Black)',\n",
       "  'boAt Rockerz 370 On Ear Bluetooth Headphones with Upto 12 Hours Playtime, Cozy Padded Earcups and Bluetooth v5.0(Buoyant B...',\n",
       "  'boAt Bassheads 900 Wired On Ear Headphones with Mic (Carbon Black)',\n",
       "  'boAt Bassheads 100 Wired in Ear Earphones with Mic (Mint Green)',\n",
       "  'Sony Wh-Ch510 Bluetooth Wireless On Ear Headphones Up-To 35Hrs Playtime Lightweight, Type-C, Play/Pause Control, 30Mm Driv...',\n",
       "  'ZEBRONICS Zeb-Thunder Bluetooth Wireless Over Ear Headphone FM, mSD, 9 hrs Playback with Mic (Black)',\n",
       "  'pTron Pride Lite HBE (High Bass Earphones) in-Ear Wired Headphones with in-line Mic, 10mm Powerful Driver for Stereo Audi...',\n",
       "  'ZEBRONICS Zeb-Thunder Bluetooth Wireless On Ear Headphone FM, mSD, 9 hrs Playback with Mic (Teal Green)',\n",
       "  'Sony WH-XB910N Extra Bass Noise Cancelling Bluetooth Wireless Over Ear Headphones with Swift Pair, Fast Pair, Touch Sensor...',\n",
       "  'Kratos Thump Wired Earphones, Powerful Bass, HD Sound Quality Earphones, Tangle Free Cable, Comfortable in Ear Fit, with ...',\n",
       "  'boAt Rockerz 450 Bluetooth On Ear Headphones with Mic, Upto 15 Hours Playback, 40MM Drivers, Padded Ear Cushions, Integrat...']}"
      ]
     },
     "execution_count": 32,
     "metadata": {},
     "output_type": "execute_result"
    }
   ],
   "source": [
    "scraper.get_result_similar(amazon_url,grouped = True)"
   ]
  },
  {
   "cell_type": "code",
   "execution_count": 33,
   "metadata": {},
   "outputs": [],
   "source": [
    "scraper.set_rule_aliases({'rule_ct1c':'Title', 'rule_hzl3':'Price'}) # title grouping is rule_t8mk from the above output\n",
    "scraper.keep_rules(['rule_ct1c','rule_hzl3'])\n",
    "scraper.save('amazon-search')"
   ]
  },
  {
   "cell_type": "code",
   "execution_count": 34,
   "metadata": {},
   "outputs": [],
   "source": [
    "results = scraper.get_result_similar('https://www.amazon.in/s?k=JBL+headphone', group_by_alias= True)"
   ]
  },
  {
   "cell_type": "code",
   "execution_count": 36,
   "metadata": {},
   "outputs": [
    {
     "data": {
      "text/plain": [
       "['₹549',\n",
       " '₹1,299',\n",
       " '₹1,799',\n",
       " '₹3,499',\n",
       " '₹399',\n",
       " '₹999',\n",
       " '₹5,699',\n",
       " '₹7,999',\n",
       " '₹699',\n",
       " '₹1,499',\n",
       " '₹5,999',\n",
       " '₹12,599',\n",
       " '₹399',\n",
       " '₹999',\n",
       " '₹2,898',\n",
       " '₹4,499',\n",
       " '₹1,399',\n",
       " '₹2,999',\n",
       " '₹1,799',\n",
       " '₹3,499',\n",
       " '₹549',\n",
       " '₹1,299',\n",
       " '₹1,299',\n",
       " '₹2,999',\n",
       " '₹1,759',\n",
       " '₹2,499',\n",
       " '₹4,499',\n",
       " '₹5,499',\n",
       " '₹699',\n",
       " '₹1,499',\n",
       " '₹999',\n",
       " '₹1,599']"
      ]
     },
     "execution_count": 36,
     "metadata": {},
     "output_type": "execute_result"
    }
   ],
   "source": [
    "results['Price']"
   ]
  },
  {
   "cell_type": "code",
   "execution_count": 37,
   "metadata": {},
   "outputs": [
    {
     "data": {
      "text/plain": [
       "['Amazon\\'s Choicefor \"JBL headphone\"',\n",
       " 'JBL C100SI Wired In Ear Headphones with Mic, JBL Pure Bass Sound, One Button Multi-function Remote, Angled Buds for Comfort fit (Black)',\n",
       " 'JBL T460BT by Harman, Wireless On Ear Headphones with Mic, Pure Bass, Portable, Lightweight & Flat Foldable, Voice Assistant Support for Mobiles (Black)',\n",
       " 'JBL C50HI, Wired in Ear Headphones with Mic, One Button Multi-Function Remote, Lightweight & Comfortable fit (Black)',\n",
       " 'JBL Tune 760NC, Over Ear Active Noise Cancellation Headphones with Mic, up to 50 Hours Playtime, JBL Pure Bass, Google Fast Pair, Dual Pairing, AUX & Voice Assistant Support for Mobile Phones (Black)',\n",
       " 'JBL C200SI, Premium in Ear Wired Earphones with Mic, JBL Signature Sound, One Button Multi-Function Remote, Angled Earbuds for Comfort fit (Blue)',\n",
       " 'JBL Live 650BTNC Active Noise Cancelling JBL Signature Sound, Quick Charge, Dual Pairing, AUX, Built-in Alexa Google Assistant Bluetooth Wireless Over Ear Headphones with Mic (Blue)',\n",
       " 'JBL C50HI, Wired in Ear Headphones with Mic, One Button Multi-Function Remote, Lightweight & Comfortable fit (Blue)',\n",
       " 'JBL Tune 510BT, On Ear Wireless Headphones with Mic, up to 40 Hours Playtime, JBL Pure Bass, Quick Charging, Dual Pairing, Bluetooth 5.0 & Voice Assistant Support for Mobile Phones (Black)',\n",
       " 'JBL Endurance RunBT, Sports in Ear Wireless Bluetooth Earphones with Mic, Sweatproof, Flexsoft eartips, Magnetic Earbuds, Fliphook & TwistLock Technology, Voice Assistant Support (Black)',\n",
       " 'JBL T460BT by Harman, Wireless On Ear Headphones with Mic, Pure Bass, Portable, Lightweight & Flat Foldable, Voice Assistant Support for Mobiles (Blue)',\n",
       " 'JBL C100SI In-Ear Headphones with Mic (Red)',\n",
       " 'JBL Tune 215BT, 16 Hrs Playtime with Quick Charge, in Ear Bluetooth Wireless Earphones with Mic, 12.5mm Premium Earbuds with Pure Bass, BT 5.0, Dual Pairing, Type C & Voice Assistant Support (Black)',\n",
       " 'JBL Tune 500, Wired On Ear Headphone with Mic, Headphones for Work from Home, Conference Calls, Online Learning & Teaching, JBL Pure Bass Sound, One Button Multi-Function Remote (Black)',\n",
       " 'JBL Tune 700BT by Harman, 27-Hours Playtime with Quick Charging, Wireless Over Ear Headphones with Mic, Dual Pairing, AUX & Voice Assistant Support for Mobile Phones (Black)',\n",
       " 'JBL C200SI, Premium in Ear Wired Earphones with Mic, JBL Signature Sound, One Button Multi-Function Remote, Angled Earbuds for Comfort fit (Gun Metal)',\n",
       " 'JBL Endurance Run, Sports in Ear Wired Earphones with Mic, Sweatproof, Flexsoft eartips, Magnetic Earbuds, Fliphook & TwistLock Technology with Voice Assistant Support for Mobiles (Black)']"
      ]
     },
     "execution_count": 37,
     "metadata": {},
     "output_type": "execute_result"
    }
   ],
   "source": [
    "results['Title']"
   ]
  },
  {
   "cell_type": "code",
   "execution_count": null,
   "metadata": {},
   "outputs": [],
   "source": []
  }
 ],
 "metadata": {
  "kernelspec": {
   "display_name": "Python 3",
   "language": "python",
   "name": "python3"
  },
  "language_info": {
   "codemirror_mode": {
    "name": "ipython",
    "version": 3
   },
   "file_extension": ".py",
   "mimetype": "text/x-python",
   "name": "python",
   "nbconvert_exporter": "python",
   "pygments_lexer": "ipython3",
   "version": "3.8.5"
  }
 },
 "nbformat": 4,
 "nbformat_minor": 4
}
